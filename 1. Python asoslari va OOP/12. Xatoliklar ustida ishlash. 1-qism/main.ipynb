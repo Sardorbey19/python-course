{
 "cells": [
  {
   "attachments": {},
   "cell_type": "markdown",
   "id": "eb67d8dc-f157-42ba-9f42-fc82da9cd147",
   "metadata": {},
   "source": [
    "# <Lesson number>. <Lesson name>\n",
    "\n",
    "- [ ]  <One>\n",
    "- [ ]  <Two>\n",
    "- [ ]  <Three>\n",
    "- [ ]  <Four>\n",
    "- [ ]  <Five>\n",
    "- [ ]  <Six>\n",
    "- [ ]  <Seven>\n",
    "- [ ]  <Eight>\n",
    "- [ ]  <Nine>\n",
    "- [ ]  <Ten>"
   ]
  }
 ],
 "metadata": {
  "kernelspec": {
   "display_name": "Python 3 (ipykernel)",
   "language": "python",
   "name": "python3"
  },
  "language_info": {
   "codemirror_mode": {
    "name": "ipython",
    "version": 3
   },
   "file_extension": ".py",
   "mimetype": "text/x-python",
   "name": "python",
   "nbconvert_exporter": "python",
   "pygments_lexer": "ipython3",
   "version": "3.10.4"
  }
 },
 "nbformat": 4,
 "nbformat_minor": 5
}
